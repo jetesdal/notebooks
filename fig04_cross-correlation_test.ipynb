{
 "cells": [
  {
   "cell_type": "markdown",
   "metadata": {},
   "source": [
    "# Lead-lag \n",
    "Lead-lag between eastern SPG Salinity and density (DENS) for 1960-2016."
   ]
  },
  {
   "cell_type": "code",
   "execution_count": 1,
   "metadata": {
    "collapsed": true
   },
   "outputs": [],
   "source": [
    "import numpy as np\n",
    "import xarray as xr\n",
    "import pandas as pd\n",
    "\n",
    "from scipy import signal\n",
    "from scipy import stats\n",
    "\n",
    "from matplotlib import pyplot as plt\n",
    "%matplotlib inline"
   ]
  },
  {
   "cell_type": "code",
   "execution_count": 2,
   "metadata": {
    "collapsed": true
   },
   "outputs": [],
   "source": [
    "def shift(arr, num, fill_value=np.nan):\n",
    "    if num == 0:\n",
    "        return arr\n",
    "    elif num > 0:\n",
    "        return np.concatenate((np.full(num, fill_value), arr[:-num]))\n",
    "    else:\n",
    "        return np.concatenate((arr[-num:], np.full(-num, fill_value)))"
   ]
  },
  {
   "cell_type": "markdown",
   "metadata": {},
   "source": [
    "### Load `DENS`"
   ]
  },
  {
   "cell_type": "code",
   "execution_count": 3,
   "metadata": {
    "collapsed": true
   },
   "outputs": [],
   "source": [
    "df_dens = pd.read_csv('../indices/DENS_detrend.csv')\n",
    "df_dens.time = pd.DatetimeIndex(df_dens.time)"
   ]
  },
  {
   "cell_type": "code",
   "execution_count": 4,
   "metadata": {
    "collapsed": true
   },
   "outputs": [],
   "source": [
    "df_dens = df_dens[(df_dens.time>='1993-01-15')&(df_dens.time<='2016-12-15')].reset_index()"
   ]
  },
  {
   "cell_type": "code",
   "execution_count": 5,
   "metadata": {},
   "outputs": [
    {
     "data": {
      "text/html": [
       "<div>\n",
       "<style scoped>\n",
       "    .dataframe tbody tr th:only-of-type {\n",
       "        vertical-align: middle;\n",
       "    }\n",
       "\n",
       "    .dataframe tbody tr th {\n",
       "        vertical-align: top;\n",
       "    }\n",
       "\n",
       "    .dataframe thead th {\n",
       "        text-align: right;\n",
       "    }\n",
       "</style>\n",
       "<table border=\"1\" class=\"dataframe\">\n",
       "  <thead>\n",
       "    <tr style=\"text-align: right;\">\n",
       "      <th></th>\n",
       "      <th>index</th>\n",
       "      <th>time</th>\n",
       "      <th>DENS_detrend</th>\n",
       "    </tr>\n",
       "  </thead>\n",
       "  <tbody>\n",
       "    <tr>\n",
       "      <th>283</th>\n",
       "      <td>1399</td>\n",
       "      <td>2016-08-15</td>\n",
       "      <td>0.018807</td>\n",
       "    </tr>\n",
       "    <tr>\n",
       "      <th>284</th>\n",
       "      <td>1400</td>\n",
       "      <td>2016-09-15</td>\n",
       "      <td>0.028073</td>\n",
       "    </tr>\n",
       "    <tr>\n",
       "      <th>285</th>\n",
       "      <td>1401</td>\n",
       "      <td>2016-10-15</td>\n",
       "      <td>0.016454</td>\n",
       "    </tr>\n",
       "    <tr>\n",
       "      <th>286</th>\n",
       "      <td>1402</td>\n",
       "      <td>2016-11-15</td>\n",
       "      <td>0.022105</td>\n",
       "    </tr>\n",
       "    <tr>\n",
       "      <th>287</th>\n",
       "      <td>1403</td>\n",
       "      <td>2016-12-15</td>\n",
       "      <td>0.032009</td>\n",
       "    </tr>\n",
       "  </tbody>\n",
       "</table>\n",
       "</div>"
      ],
      "text/plain": [
       "     index       time  DENS_detrend\n",
       "283   1399 2016-08-15      0.018807\n",
       "284   1400 2016-09-15      0.028073\n",
       "285   1401 2016-10-15      0.016454\n",
       "286   1402 2016-11-15      0.022105\n",
       "287   1403 2016-12-15      0.032009"
      ]
     },
     "execution_count": 5,
     "metadata": {},
     "output_type": "execute_result"
    }
   ],
   "source": [
    "df_dens.tail()"
   ]
  },
  {
   "cell_type": "markdown",
   "metadata": {},
   "source": [
    "### Load HadOBS EN4 salinity"
   ]
  },
  {
   "cell_type": "code",
   "execution_count": 6,
   "metadata": {
    "collapsed": true
   },
   "outputs": [],
   "source": [
    "ds = xr.open_dataset('/home/jet/data/hadobs/converted/en4/salinity.nc')"
   ]
  },
  {
   "cell_type": "code",
   "execution_count": 7,
   "metadata": {
    "collapsed": true
   },
   "outputs": [],
   "source": [
    "# Add area\n",
    "nc = xr.open_dataset('/home/jet/data/hadobs/hadobs_en4_area.nc')\n",
    "ds['area'] = nc.area\n",
    "ds.area.attrs= {'units': 'm^2','long_name': 'Grid area'}"
   ]
  },
  {
   "cell_type": "code",
   "execution_count": 8,
   "metadata": {
    "collapsed": true
   },
   "outputs": [],
   "source": [
    "tstart = '1993-01-15'\n",
    "tend = '2016-12-15'\n",
    "\n",
    "south = 53\n",
    "north = 62\n",
    "west = -26\n",
    "east = -10"
   ]
  },
  {
   "cell_type": "markdown",
   "metadata": {},
   "source": [
    "### Subsample salinty to new array"
   ]
  },
  {
   "cell_type": "code",
   "execution_count": 9,
   "metadata": {
    "collapsed": true
   },
   "outputs": [],
   "source": [
    "psal = ds.salinity.sel(time=slice(tstart,tend),lat=slice(south,north),lon=slice(west,east))"
   ]
  },
  {
   "cell_type": "markdown",
   "metadata": {},
   "source": [
    "### Depth-average salinity (top 491 m)"
   ]
  },
  {
   "cell_type": "code",
   "execution_count": 10,
   "metadata": {
    "collapsed": true
   },
   "outputs": [],
   "source": [
    "upper = 0\n",
    "lower = 500"
   ]
  },
  {
   "cell_type": "code",
   "execution_count": 11,
   "metadata": {
    "collapsed": true
   },
   "outputs": [],
   "source": [
    "depth_bnds = ds.depth_bnds.sel(depth=slice(upper,lower))"
   ]
  },
  {
   "cell_type": "code",
   "execution_count": 12,
   "metadata": {},
   "outputs": [
    {
     "name": "stdout",
     "output_type": "stream",
     "text": [
      "upper: 0.0\n",
      "lower: 490.9494\n"
     ]
    }
   ],
   "source": [
    "print 'upper:',  str(depth_bnds[0,0].values)\n",
    "print 'lower:', str(depth_bnds[-1,1].values)"
   ]
  },
  {
   "cell_type": "code",
   "execution_count": 13,
   "metadata": {
    "collapsed": true
   },
   "outputs": [],
   "source": [
    "dz = (depth_bnds[:,1]-depth_bnds[:,0])"
   ]
  },
  {
   "cell_type": "code",
   "execution_count": 14,
   "metadata": {
    "collapsed": true
   },
   "outputs": [],
   "source": [
    "H = ((psal/psal)*dz).sum('depth')"
   ]
  },
  {
   "cell_type": "code",
   "execution_count": 15,
   "metadata": {
    "collapsed": true
   },
   "outputs": [],
   "source": [
    "psal_avg = (psal * dz).sum('depth')/H"
   ]
  },
  {
   "cell_type": "code",
   "execution_count": 16,
   "metadata": {},
   "outputs": [
    {
     "name": "stdout",
     "output_type": "stream",
     "text": [
      "1993-01-15\n",
      "2016-12-15\n"
     ]
    }
   ],
   "source": [
    "print str(psal_avg.time.values[0])[:10]\n",
    "print str(psal_avg.time.values[-1])[:10]"
   ]
  },
  {
   "cell_type": "markdown",
   "metadata": {},
   "source": [
    "### Calculate spatial mean"
   ]
  },
  {
   "cell_type": "code",
   "execution_count": 17,
   "metadata": {
    "collapsed": true
   },
   "outputs": [],
   "source": [
    "area = ((psal_avg/psal_avg)*ds.area).sum(dim=['lat','lon'])"
   ]
  },
  {
   "cell_type": "code",
   "execution_count": 18,
   "metadata": {
    "collapsed": true
   },
   "outputs": [],
   "source": [
    "psal_mean = (psal_avg * ds.area/area).sum(dim=['lat','lon'])"
   ]
  },
  {
   "cell_type": "markdown",
   "metadata": {},
   "source": [
    "### Calculate seasonal anomaly"
   ]
  },
  {
   "cell_type": "code",
   "execution_count": 19,
   "metadata": {
    "collapsed": true
   },
   "outputs": [],
   "source": [
    "psal_sanom = psal_mean.groupby('time.month') - psal_mean.groupby('time.month').mean('time')"
   ]
  },
  {
   "cell_type": "markdown",
   "metadata": {},
   "source": [
    "### Detrend"
   ]
  },
  {
   "cell_type": "code",
   "execution_count": 20,
   "metadata": {
    "collapsed": true
   },
   "outputs": [],
   "source": [
    "psal_detrend = xr.DataArray(signal.detrend(psal_sanom),coords=[psal_sanom.time],dims=['time'])"
   ]
  },
  {
   "cell_type": "markdown",
   "metadata": {},
   "source": [
    "### Normalize"
   ]
  },
  {
   "cell_type": "code",
   "execution_count": 21,
   "metadata": {
    "collapsed": true
   },
   "outputs": [],
   "source": [
    "psal_norm = (psal_detrend - psal_detrend.mean())/psal_detrend.std()"
   ]
  },
  {
   "cell_type": "markdown",
   "metadata": {},
   "source": [
    "### Convert to dataframe"
   ]
  },
  {
   "cell_type": "code",
   "execution_count": 22,
   "metadata": {
    "collapsed": true
   },
   "outputs": [],
   "source": [
    "# Convert to dataframe\n",
    "df = psal_norm.to_dataframe(name='sal').reset_index()"
   ]
  },
  {
   "cell_type": "code",
   "execution_count": 23,
   "metadata": {
    "collapsed": true
   },
   "outputs": [],
   "source": [
    "df.time = pd.DatetimeIndex(df_dens.time)"
   ]
  },
  {
   "cell_type": "code",
   "execution_count": 24,
   "metadata": {
    "collapsed": true
   },
   "outputs": [],
   "source": [
    "df['dens'] = (df_dens.DENS_detrend - np.mean(df_dens.DENS_detrend))/np.std(df_dens.DENS_detrend)"
   ]
  },
  {
   "cell_type": "code",
   "execution_count": 25,
   "metadata": {},
   "outputs": [
    {
     "data": {
      "text/html": [
       "<div>\n",
       "<style scoped>\n",
       "    .dataframe tbody tr th:only-of-type {\n",
       "        vertical-align: middle;\n",
       "    }\n",
       "\n",
       "    .dataframe tbody tr th {\n",
       "        vertical-align: top;\n",
       "    }\n",
       "\n",
       "    .dataframe thead th {\n",
       "        text-align: right;\n",
       "    }\n",
       "</style>\n",
       "<table border=\"1\" class=\"dataframe\">\n",
       "  <thead>\n",
       "    <tr style=\"text-align: right;\">\n",
       "      <th></th>\n",
       "      <th>time</th>\n",
       "      <th>sal</th>\n",
       "      <th>dens</th>\n",
       "    </tr>\n",
       "  </thead>\n",
       "  <tbody>\n",
       "    <tr>\n",
       "      <th>0</th>\n",
       "      <td>1993-01-15</td>\n",
       "      <td>-1.656543</td>\n",
       "      <td>0.657447</td>\n",
       "    </tr>\n",
       "    <tr>\n",
       "      <th>1</th>\n",
       "      <td>1993-02-15</td>\n",
       "      <td>-1.328362</td>\n",
       "      <td>0.993701</td>\n",
       "    </tr>\n",
       "    <tr>\n",
       "      <th>2</th>\n",
       "      <td>1993-03-15</td>\n",
       "      <td>-1.162133</td>\n",
       "      <td>0.181379</td>\n",
       "    </tr>\n",
       "    <tr>\n",
       "      <th>3</th>\n",
       "      <td>1993-04-15</td>\n",
       "      <td>-1.208048</td>\n",
       "      <td>0.788729</td>\n",
       "    </tr>\n",
       "    <tr>\n",
       "      <th>4</th>\n",
       "      <td>1993-05-15</td>\n",
       "      <td>-1.663267</td>\n",
       "      <td>0.542150</td>\n",
       "    </tr>\n",
       "  </tbody>\n",
       "</table>\n",
       "</div>"
      ],
      "text/plain": [
       "        time       sal      dens\n",
       "0 1993-01-15 -1.656543  0.657447\n",
       "1 1993-02-15 -1.328362  0.993701\n",
       "2 1993-03-15 -1.162133  0.181379\n",
       "3 1993-04-15 -1.208048  0.788729\n",
       "4 1993-05-15 -1.663267  0.542150"
      ]
     },
     "execution_count": 25,
     "metadata": {},
     "output_type": "execute_result"
    }
   ],
   "source": [
    "df.head()"
   ]
  },
  {
   "cell_type": "code",
   "execution_count": 26,
   "metadata": {},
   "outputs": [
    {
     "data": {
      "text/html": [
       "<div>\n",
       "<style scoped>\n",
       "    .dataframe tbody tr th:only-of-type {\n",
       "        vertical-align: middle;\n",
       "    }\n",
       "\n",
       "    .dataframe tbody tr th {\n",
       "        vertical-align: top;\n",
       "    }\n",
       "\n",
       "    .dataframe thead th {\n",
       "        text-align: right;\n",
       "    }\n",
       "</style>\n",
       "<table border=\"1\" class=\"dataframe\">\n",
       "  <thead>\n",
       "    <tr style=\"text-align: right;\">\n",
       "      <th></th>\n",
       "      <th>time</th>\n",
       "      <th>sal</th>\n",
       "      <th>dens</th>\n",
       "    </tr>\n",
       "  </thead>\n",
       "  <tbody>\n",
       "    <tr>\n",
       "      <th>283</th>\n",
       "      <td>2016-08-15</td>\n",
       "      <td>-2.650344</td>\n",
       "      <td>0.605082</td>\n",
       "    </tr>\n",
       "    <tr>\n",
       "      <th>284</th>\n",
       "      <td>2016-09-15</td>\n",
       "      <td>-2.681650</td>\n",
       "      <td>0.982936</td>\n",
       "    </tr>\n",
       "    <tr>\n",
       "      <th>285</th>\n",
       "      <td>2016-10-15</td>\n",
       "      <td>-2.493674</td>\n",
       "      <td>0.509138</td>\n",
       "    </tr>\n",
       "    <tr>\n",
       "      <th>286</th>\n",
       "      <td>2016-11-15</td>\n",
       "      <td>-2.455984</td>\n",
       "      <td>0.739548</td>\n",
       "    </tr>\n",
       "    <tr>\n",
       "      <th>287</th>\n",
       "      <td>2016-12-15</td>\n",
       "      <td>-2.293436</td>\n",
       "      <td>1.143406</td>\n",
       "    </tr>\n",
       "  </tbody>\n",
       "</table>\n",
       "</div>"
      ],
      "text/plain": [
       "          time       sal      dens\n",
       "283 2016-08-15 -2.650344  0.605082\n",
       "284 2016-09-15 -2.681650  0.982936\n",
       "285 2016-10-15 -2.493674  0.509138\n",
       "286 2016-11-15 -2.455984  0.739548\n",
       "287 2016-12-15 -2.293436  1.143406"
      ]
     },
     "execution_count": 26,
     "metadata": {},
     "output_type": "execute_result"
    }
   ],
   "source": [
    "df.tail()"
   ]
  },
  {
   "cell_type": "code",
   "execution_count": 27,
   "metadata": {
    "collapsed": true
   },
   "outputs": [],
   "source": [
    "df['year'] = pd.DatetimeIndex(df.time).year"
   ]
  },
  {
   "cell_type": "code",
   "execution_count": 28,
   "metadata": {
    "collapsed": true
   },
   "outputs": [],
   "source": [
    "df = df[['year','dens','sal']].groupby(['year']).mean()"
   ]
  },
  {
   "cell_type": "code",
   "execution_count": 29,
   "metadata": {},
   "outputs": [
    {
     "data": {
      "text/plain": [
       "<matplotlib.axes._subplots.AxesSubplot at 0x6379d50>"
      ]
     },
     "execution_count": 29,
     "metadata": {},
     "output_type": "execute_result"
    },
    {
     "data": {
      "image/png": "[encoded data removed]",
      "text/plain": [
       "<matplotlib.figure.Figure at 0x615b9d0>"
      ]
     },
     "metadata": {},
     "output_type": "display_data"
    }
   ],
   "source": [
    "df.plot()"
   ]
  },
  {
   "cell_type": "code",
   "execution_count": 30,
   "metadata": {},
   "outputs": [
    {
     "data": {
      "text/html": [
       "<div>\n",
       "<style scoped>\n",
       "    .dataframe tbody tr th:only-of-type {\n",
       "        vertical-align: middle;\n",
       "    }\n",
       "\n",
       "    .dataframe tbody tr th {\n",
       "        vertical-align: top;\n",
       "    }\n",
       "\n",
       "    .dataframe thead th {\n",
       "        text-align: right;\n",
       "    }\n",
       "</style>\n",
       "<table border=\"1\" class=\"dataframe\">\n",
       "  <thead>\n",
       "    <tr style=\"text-align: right;\">\n",
       "      <th></th>\n",
       "      <th>dens</th>\n",
       "      <th>sal</th>\n",
       "    </tr>\n",
       "    <tr>\n",
       "      <th>year</th>\n",
       "      <th></th>\n",
       "      <th></th>\n",
       "    </tr>\n",
       "  </thead>\n",
       "  <tbody>\n",
       "    <tr>\n",
       "      <th>1993</th>\n",
       "      <td>0.374954</td>\n",
       "      <td>-1.437445</td>\n",
       "    </tr>\n",
       "    <tr>\n",
       "      <th>1994</th>\n",
       "      <td>0.062060</td>\n",
       "      <td>-1.353621</td>\n",
       "    </tr>\n",
       "    <tr>\n",
       "      <th>1995</th>\n",
       "      <td>2.179362</td>\n",
       "      <td>-0.631350</td>\n",
       "    </tr>\n",
       "    <tr>\n",
       "      <th>1996</th>\n",
       "      <td>-0.036678</td>\n",
       "      <td>-0.353905</td>\n",
       "    </tr>\n",
       "    <tr>\n",
       "      <th>1997</th>\n",
       "      <td>0.350201</td>\n",
       "      <td>0.175495</td>\n",
       "    </tr>\n",
       "  </tbody>\n",
       "</table>\n",
       "</div>"
      ],
      "text/plain": [
       "          dens       sal\n",
       "year                    \n",
       "1993  0.374954 -1.437445\n",
       "1994  0.062060 -1.353621\n",
       "1995  2.179362 -0.631350\n",
       "1996 -0.036678 -0.353905\n",
       "1997  0.350201  0.175495"
      ]
     },
     "execution_count": 30,
     "metadata": {},
     "output_type": "execute_result"
    }
   ],
   "source": [
    "df.head()"
   ]
  },
  {
   "cell_type": "code",
   "execution_count": 31,
   "metadata": {
    "collapsed": true
   },
   "outputs": [],
   "source": [
    "lag = 1\n",
    "df['dens_lag'] = np.concatenate([df.dens[lag:],lag*[np.nan]])\n",
    "df['sal_lag'] = np.concatenate([df.sal[lag:],lag*[np.nan]])"
   ]
  },
  {
   "cell_type": "code",
   "execution_count": 32,
   "metadata": {
    "collapsed": true
   },
   "outputs": [],
   "source": [
    "x = df.sal\n",
    "y1 = df.sal_lag\n",
    "y2 = df.dens_lag\n",
    "y3 = df.dens\n",
    "\n",
    "maxlag = 5\n",
    "\n",
    "corrs_y1 = []\n",
    "corrs_y2 = []\n",
    "corrs_y3 = []\n",
    "\n",
    "pvals_y1 = []\n",
    "pvals_y2 = []\n",
    "pvals_y3 = []\n",
    "\n",
    "lags = np.arange(-maxlag,maxlag+1)\n",
    "for lag in lags:\n",
    "    _y1 = shift(y1,lag)\n",
    "    _y2 = shift(y2,lag)\n",
    "    _y3 = shift(y3,lag)\n",
    "    \n",
    "    not_nan_ind = ~np.isnan(_y1)\n",
    "    (corr_y1, pval_y1) = stats.pearsonr(x[not_nan_ind],_y1[not_nan_ind])\n",
    "    corrs_y1.append(corr_y1)\n",
    "    pvals_y1.append(pval_y1)\n",
    "    \n",
    "    not_nan_ind = ~np.isnan(_y2)\n",
    "    (corr_y2, pval_y2) = stats.pearsonr(x[not_nan_ind],_y2[not_nan_ind])\n",
    "    corrs_y2.append(corr_y2)\n",
    "    pvals_y2.append(pval_y2)\n",
    "    \n",
    "    not_nan_ind = ~np.isnan(_y3)\n",
    "    (corr_y3, pval_y3) = stats.pearsonr(x[not_nan_ind],_y3[not_nan_ind])\n",
    "    corrs_y3.append(corr_y3)\n",
    "    pvals_y3.append(pval_y3)\n",
    "\n",
    "corrs_y1 = np.array(corrs_y1)\n",
    "corrs_y2 = np.array(corrs_y2)\n",
    "corrs_y3 = np.array(corrs_y3)\n",
    "\n",
    "pvals_y1 = np.array(pvals_y1)\n",
    "pvals_y2 = np.array(pvals_y2)\n",
    "pvals_y3 = np.array(pvals_y3)"
   ]
  },
  {
   "cell_type": "code",
   "execution_count": 36,
   "metadata": {},
   "outputs": [
    {
     "data": {
      "image/png": "[encoded data removed]",
      "text/plain": [
       "<matplotlib.figure.Figure at 0x7991c90>"
      ]
     },
     "metadata": {},
     "output_type": "display_data"
    }
   ],
   "source": [
    "fig, ax = plt.subplots(figsize=(12,12))\n",
    "plt.axis('off')\n",
    "\n",
    "ax1 = fig.add_subplot(211)\n",
    "ax1.text(0.01,0.03, 'a', transform=ax1.transAxes, fontsize=24, fontweight='bold')\n",
    "ax1.axhline(y=0, xmin=0, xmax=1, linewidth=0.5, color = 'k')\n",
    "ax1.plot(df.index, df.dens, lw=3, color='r',linestyle='-',label='DENS')\n",
    "ax1.plot(df.index, df.dens_lag, lw=3, color='orange',linestyle='--',label='DENS (shifted by +1 year)')\n",
    "ax1.plot(df.index, df.sal, lw=3, color='k',linestyle='-',label='SAL')\n",
    "ax1.plot(df.index, df.sal_lag, lw=3, color='grey',linestyle='--',label='SAL (shifted by +1 year)')\n",
    "\n",
    "#ax1.set_xlim([1959,2017])\n",
    "#ax1.set_xticks(np.arange(1960,2020,5))\n",
    "#for tick in ax1.xaxis.get_major_ticks():\n",
    "#    tick.label.set_fontsize(14)\n",
    "#ax1.set_ylim([-3,3])\n",
    "#ax1.set_yticks(np.arange(-3,4,1))\n",
    "#for tick in ax1.yaxis.get_major_ticks():\n",
    "#    tick.label.set_fontsize(14)   \n",
    "ax1.set_ylabel('Normalized',fontsize=18)\n",
    "ax1.legend(loc='upper right',frameon=False, fontsize=14)\n",
    "\n",
    "ax2 = fig.add_subplot(212)\n",
    "ax2.text(0.01,0.03, 'b', transform=ax2.transAxes, fontsize=24, fontweight='bold')\n",
    "ax2.axhline(0, color='black', lw=1)\n",
    "ax2.axvline(0, color='black', lw=1)\n",
    "ax2.plot(lags, corrs_y1,lw=2, linestyle='--', c='k',alpha=0.3,label='_nolegend_')\n",
    "ax2.plot(np.where(pvals_y1 < 0.05, lags, np.nan), np.where(pvals_y1 < 0.05, corrs_y1, np.nan),\n",
    "         lw=3, linestyle='-', marker='.', c='k',label='SAL vs SAL (shifted by +1 year)')\n",
    "ax2.plot(lags, corrs_y2,lw=2, linestyle='--', c='orange',alpha=0.3,label='_nolegend_')\n",
    "ax2.plot(np.where(pvals_y2 < 0.05, lags, np.nan), np.where(pvals_y2 < 0.05, corrs_y2, np.nan),\n",
    "         lw=3, linestyle='-', marker='.', c='orange',label='SAL vs DENS (shifted by +1 year)')\n",
    "ax2.plot(lags, corrs_y3,lw=2, linestyle='--', c='r',alpha=0.3,label='_nolegend_')\n",
    "ax2.plot(np.where(pvals_y3 < 0.05, lags, np.nan), np.where(pvals_y3 < 0.05, corrs_y3, np.nan),\n",
    "         lw=3, linestyle='-', marker='.', c='r',label='SAL vs DENS')\n",
    "ax2.set_xlim([-maxlag,maxlag])\n",
    "#ax2.set_ylim([-0.75,0.3])\n",
    "#ax2.set_xticks(np.arange(-maxlag,maxlag+1,1))\n",
    "for tick in ax2.xaxis.get_major_ticks():\n",
    "    tick.label.set_fontsize(14)  \n",
    "#ax2.set_yticks(np.arange(-0.7,0.4,0.1))\n",
    "for tick in ax2.yaxis.get_major_ticks():\n",
    "    tick.label.set_fontsize(14)\n",
    "ax2.set_ylabel(r'Pearson Correlation ($r$)',fontsize=18)\n",
    "ax2.set_xlabel(r'Lag (years)',fontsize=18)\n",
    "ax2.legend(loc='upper left',frameon=False, fontsize=14)\n",
    "\n",
    "fig.subplots_adjust(left=0.1, right=0.9, bottom=0.1, top=0.9)\n",
    "plt.show()"
   ]
  },
  {
   "cell_type": "markdown",
   "metadata": {},
   "source": [
    "Positive lags indicate that y1, y2 or y3 is leading and negative lags indicate that x (`SAL`) is leading."
   ]
  },
  {
   "cell_type": "code",
   "execution_count": null,
   "metadata": {
    "collapsed": true
   },
   "outputs": [],
   "source": []
  }
 ],
 "metadata": {
  "kernelspec": {
   "display_name": "Python 2",
   "language": "python",
   "name": "python2"
  },
  "language_info": {
   "codemirror_mode": {
    "name": "ipython",
    "version": 2
   },
   "file_extension": ".py",
   "mimetype": "text/x-python",
   "name": "python",
   "nbconvert_exporter": "python",
   "pygments_lexer": "ipython2",
   "version": "2.7.5"
  }
 },
 "nbformat": 4,
 "nbformat_minor": 2
}
