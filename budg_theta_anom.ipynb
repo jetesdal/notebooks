{
 "cells": [
  {
   "cell_type": "markdown",
   "metadata": {},
   "source": [
    "# Anomaly budget for ECCOv4 temperature (`THETA`, $\\theta$)"
   ]
  },
  {
   "cell_type": "markdown",
   "metadata": {},
   "source": [
    "## Import packages, load data, define terms"
   ]
  },
  {
   "cell_type": "code",
   "execution_count": 1,
   "metadata": {},
   "outputs": [],
   "source": [
    "import numpy as np\n",
    "import xarray as xr\n",
    "import gcsfs\n",
    "import xgcm"
   ]
  },
  {
   "cell_type": "markdown",
   "metadata": {},
   "source": [
    "Define LLC face connections for `xgcm.Grid()`"
   ]
  },
  {
   "cell_type": "code",
   "execution_count": 2,
   "metadata": {},
   "outputs": [],
   "source": [
    "face_connections = {'face':\n",
    "                    {0: {'X':  ((12, 'Y', False), (3, 'X', False)),\n",
    "                         'Y':  (None,             (1, 'Y', False))},\n",
    "                     1: {'X':  ((11, 'Y', False), (4, 'X', False)),\n",
    "                         'Y':  ((0, 'Y', False),  (2, 'Y', False))},\n",
    "                     2: {'X':  ((10, 'Y', False), (5, 'X', False)),\n",
    "                         'Y':  ((1, 'Y', False),  (6, 'X', False))},\n",
    "                     3: {'X':  ((0, 'X', False),  (9, 'Y', False)),\n",
    "                         'Y':  (None,             (4, 'Y', False))},\n",
    "                     4: {'X':  ((1, 'X', False),  (8, 'Y', False)),\n",
    "                         'Y':  ((3, 'Y', False),  (5, 'Y', False))},\n",
    "                     5: {'X':  ((2, 'X', False),  (7, 'Y', False)),\n",
    "                         'Y':  ((4, 'Y', False),  (6, 'Y', False))},\n",
    "                     6: {'X':  ((2, 'Y', False),  (7, 'X', False)),\n",
    "                         'Y':  ((5, 'Y', False),  (10, 'X', False))},\n",
    "                     7: {'X':  ((6, 'X', False),  (8, 'X', False)),\n",
    "                         'Y':  ((5, 'X', False),  (10, 'Y', False))},\n",
    "                     8: {'X':  ((7, 'X', False),  (9, 'X', False)),\n",
    "                         'Y':  ((4, 'X', False),  (11, 'Y', False))},\n",
    "                     9: {'X':  ((8, 'X', False),  None),\n",
    "                         'Y':  ((3, 'X', False),  (12, 'Y', False))},\n",
    "                     10: {'X': ((6, 'Y', False),  (11, 'X', False)),\n",
    "                          'Y': ((7, 'Y', False),  (2, 'X', False))},\n",
    "                     11: {'X': ((10, 'X', False), (12, 'X', False)),\n",
    "                          'Y': ((8, 'Y', False),  (1, 'X', False))},\n",
    "                     12: {'X': ((11, 'X', False), None),\n",
    "                          'Y': ((9, 'Y', False),  (0, 'X', False))}}}"
   ]
  },
  {
   "cell_type": "markdown",
   "metadata": {},
   "source": [
    "Load ECCOv4r3 diagnostic output"
   ]
  },
  {
   "cell_type": "code",
   "execution_count": 3,
   "metadata": {},
   "outputs": [],
   "source": [
    "gcs = gcsfs.GCSFileSystem(token='anon')\n",
    "ds = xr.open_zarr(gcsfs.GCSMap('pangeo-data/ecco/eccov4r3', gcs=gcs))"
   ]
  },
  {
   "cell_type": "code",
   "execution_count": 4,
   "metadata": {},
   "outputs": [
    {
     "data": {
      "application/vnd.jupyter.widget-view+json": {
       "model_id": "9215231ecd174189b82491531212e5c1",
       "version_major": 2,
       "version_minor": 0
      },
      "text/plain": [
       "VBox(children=(HTML(value='<h2>KubeCluster</h2>'), HBox(children=(HTML(value='\\n<div>\\n  <style scoped>\\n    .…"
      ]
     },
     "metadata": {},
     "output_type": "display_data"
    }
   ],
   "source": [
    "from dask.distributed import Client, progress\n",
    "\n",
    "from dask_kubernetes import KubeCluster\n",
    "cluster = KubeCluster(n_workers=20)\n",
    "cluster"
   ]
  },
  {
   "cell_type": "code",
   "execution_count": 5,
   "metadata": {},
   "outputs": [
    {
     "data": {
      "text/html": [
       "<table style=\"border: 2px solid white;\">\n",
       "<tr>\n",
       "<td style=\"vertical-align: top; border: 0px solid white\">\n",
       "<h3>Client</h3>\n",
       "<ul>\n",
       "  <li><b>Scheduler: </b>tcp://10.22.189.3:42703\n",
       "  <li><b>Dashboard: </b><a href='/user/jetesdal/proxy/8787/status' target='_blank'>/user/jetesdal/proxy/8787/status</a>\n",
       "</ul>\n",
       "</td>\n",
       "<td style=\"vertical-align: top; border: 0px solid white\">\n",
       "<h3>Cluster</h3>\n",
       "<ul>\n",
       "  <li><b>Workers: </b>0</li>\n",
       "  <li><b>Cores: </b>0</li>\n",
       "  <li><b>Memory: </b>0 B</li>\n",
       "</ul>\n",
       "</td>\n",
       "</tr>\n",
       "</table>"
      ],
      "text/plain": [
       "<Client: scheduler='tcp://10.22.189.3:42703' processes=0 cores=0>"
      ]
     },
     "execution_count": 5,
     "metadata": {},
     "output_type": "execute_result"
    }
   ],
   "source": [
    "client = Client(cluster)\n",
    "client"
   ]
  },
  {
   "cell_type": "markdown",
   "metadata": {},
   "source": [
    "Number of seconds between each snapshot"
   ]
  },
  {
   "cell_type": "code",
   "execution_count": 6,
   "metadata": {},
   "outputs": [],
   "source": [
    "dt = ds.time_snp[1:].load()\n",
    "dt.values = [float(t)/10**9 for t in np.diff(ds.time_snp)]\n",
    "dt = dt.rename({'time_snp':'time','iter_snp':'iter'})\n",
    "dt.time.values = ds.time[1:-1].values"
   ]
  },
  {
   "cell_type": "markdown",
   "metadata": {},
   "source": [
    "Extract coordinates to seperate dataset"
   ]
  },
  {
   "cell_type": "code",
   "execution_count": 7,
   "metadata": {},
   "outputs": [],
   "source": [
    "coords = ds.coords.to_dataset().reset_coords()\n",
    "ds = ds.reset_coords(drop=True)"
   ]
  },
  {
   "cell_type": "markdown",
   "metadata": {},
   "source": [
    "Relevant terms"
   ]
  },
  {
   "cell_type": "code",
   "execution_count": 8,
   "metadata": {},
   "outputs": [],
   "source": [
    "# Density kg/m^3\n",
    "rhoconst = 1029\n",
    "\n",
    "# Heat capacity (J/kg/K)\n",
    "c_p = 3994\n",
    "\n",
    "# Constants for surface heat penetration\n",
    "R = 0.62\n",
    "zeta1 = 0.6\n",
    "zeta2 = 20.0\n",
    "\n",
    "# Ocean depth\n",
    "Depth = coords.Depth"
   ]
  },
  {
   "cell_type": "markdown",
   "metadata": {},
   "source": [
    "Grid dimensions"
   ]
  },
  {
   "cell_type": "code",
   "execution_count": 9,
   "metadata": {},
   "outputs": [],
   "source": [
    "dxG = coords.dxG\n",
    "dyG = coords.dyG\n",
    "drF = coords.drF\n",
    "rA = coords.rA\n",
    "hFacC = coords.hFacC.load()"
   ]
  },
  {
   "cell_type": "markdown",
   "metadata": {},
   "source": [
    "Volume"
   ]
  },
  {
   "cell_type": "code",
   "execution_count": 10,
   "metadata": {},
   "outputs": [],
   "source": [
    "vol = (rA*drF*hFacC).transpose('face','k','j','i')"
   ]
  },
  {
   "cell_type": "markdown",
   "metadata": {},
   "source": [
    "Mask"
   ]
  },
  {
   "cell_type": "code",
   "execution_count": 11,
   "metadata": {},
   "outputs": [],
   "source": [
    "# Make copy of hFacC\n",
    "mskC = hFacC.copy(deep=True).load()\n",
    "\n",
    "# Change all fractions (ocean) to 1. land = 0\n",
    "mskC.values[mskC.values>0] = 1"
   ]
  },
  {
   "cell_type": "markdown",
   "metadata": {},
   "source": [
    "## Diagnostic temperature budget"
   ]
  },
  {
   "cell_type": "code",
   "execution_count": 12,
   "metadata": {},
   "outputs": [],
   "source": [
    "grid = xgcm.Grid(ds, face_connections=face_connections)"
   ]
  },
  {
   "cell_type": "markdown",
   "metadata": {},
   "source": [
    "### Tendency"
   ]
  },
  {
   "cell_type": "code",
   "execution_count": 13,
   "metadata": {},
   "outputs": [],
   "source": [
    "# Load snapshots of THETA and ETAN\n",
    "THETAsnp = ds.THETA_snp\n",
    "ETANsnp = ds.ETAN_snp\n",
    "\n",
    "# Calculate the s∗theta term\n",
    "HCsnp = (THETAsnp*(1+ETANsnp/Depth)).transpose('time_snp','face','k','j','i')\n",
    "\n",
    "# Total tendency (degC/s)\n",
    "tendH = grid.diff(HCsnp, 'T', boundary='fill', fill_value=0.0)/dt\n",
    "\n",
    "# Add empty arrays for first and last time point\n",
    "tendH = xr.concat([np.nan*xr.zeros_like(vol).assign_coords(time=ds.time[0]).expand_dims('time'),tendH.drop('iter'),\n",
    "                   np.nan*xr.zeros_like(vol).assign_coords(time=ds.time[-1]).expand_dims('time')],\n",
    "                  dim='time').transpose('time','face','k','j','i')"
   ]
  },
  {
   "cell_type": "markdown",
   "metadata": {},
   "source": [
    "### Forcing"
   ]
  },
  {
   "cell_type": "code",
   "execution_count": 14,
   "metadata": {},
   "outputs": [],
   "source": [
    "# Load monthly averages of heat flux and shortwave radiation\n",
    "TFLUX = ds.TFLUX\n",
    "oceQsw = ds.oceQsw\n",
    "\n",
    "# Defining terms needed for evaluating surface heat forcing\n",
    "Z = coords.Z.load()\n",
    "RF = np.concatenate([coords.Zp1.values[:-1],[np.nan]])\n",
    "q1 = R*np.exp(1.0/zeta1*RF[:-1]) + (1.0-R)*np.exp(1.0/zeta2*RF[:-1])\n",
    "q2 = R*np.exp(1.0/zeta1*RF[1:]) + (1.0-R)*np.exp(1.0/zeta2*RF[1:])\n",
    "\n",
    "# Correction for the 200m cutoff\n",
    "zCut = np.where(Z < -200)[0][0]\n",
    "q1[zCut:] = 0\n",
    "q2[zCut-1:] = 0\n",
    "\n",
    "# Save q1 and q2 as xarray data arrays\n",
    "q1 = xr.DataArray(q1,coords=[Z.k],dims=['k'])\n",
    "q2 = xr.DataArray(q2,coords=[Z.k],dims=['k'])"
   ]
  },
  {
   "cell_type": "markdown",
   "metadata": {},
   "source": [
    "Surface heat flux"
   ]
  },
  {
   "cell_type": "code",
   "execution_count": 15,
   "metadata": {},
   "outputs": [],
   "source": [
    "# Compute vertically penetrating flux (surface heat flux below the surface)\n",
    "forcH_subsurf = ((q1*(mskC==1)-q2*(mskC.shift(k=-1)==1))*oceQsw).transpose('time','face','k','j','i')\n",
    "\n",
    "# Surface heat flux (at the sea surface)\n",
    "forcH_surf = ((TFLUX - (1-(q1[0]-q2[0]))*oceQsw)*mskC[0]).transpose('time','face','j','i').assign_coords(k=0).expand_dims('k')\n",
    "\n",
    "# Full-depth surface forcing\n",
    "forcH = xr.concat([forcH_surf,forcH_subsurf[:,:,1:]], dim='k').transpose('time','face','k','j','i')"
   ]
  },
  {
   "cell_type": "markdown",
   "metadata": {},
   "source": [
    "Geothermal heat flux"
   ]
  },
  {
   "cell_type": "code",
   "execution_count": 16,
   "metadata": {},
   "outputs": [],
   "source": [
    "# Create 3d bathymetry mask\n",
    "mskC_shifted = mskC.shift(k=-1)\n",
    "mskC_shifted.values[-1,:,:,:] = 0\n",
    "mskb = mskC - mskC_shifted\n",
    "\n",
    "# Create 3d field of geothermal heat flux\n",
    "geoflx3d = ds.GEOFLX * mskb.transpose('face','k','j','i')\n",
    "GEOFLX = geoflx3d.transpose('face','k','j','i')\n",
    "\n",
    "# Add geothermal heat flux to forcing field and convert from W/m^2 to degC/s\n",
    "forcH = ((forcH + GEOFLX)/(rhoconst*c_p))/(hFacC*drF)"
   ]
  },
  {
   "cell_type": "markdown",
   "metadata": {},
   "source": [
    "### Advection"
   ]
  },
  {
   "cell_type": "code",
   "execution_count": 17,
   "metadata": {},
   "outputs": [],
   "source": [
    "ADVxy_diff = grid.diff_2d_vector({'X' : ds.ADVx_TH, 'Y' : ds.ADVy_TH}, boundary = 'fill')\n",
    "ADVx_diffx = ADVxy_diff['X']\n",
    "ADVy_diffy = ADVxy_diff['Y']\n",
    "\n",
    "# Convergence of horizontal advection (degC/s)\n",
    "adv_hConvH = (-(ADVx_diffx + ADVy_diffy)/vol).transpose('time','face','k','j','i')\n",
    "\n",
    "# Convergence of vertical advection (degC/s)\n",
    "ADVr_TH = ds.ADVr_TH.transpose('time','face','k_l','j','i')\n",
    "adv_vConvH = (grid.diff(ADVr_TH, 'Z', boundary='fill')/vol).transpose('time','face','k','j','i')"
   ]
  },
  {
   "cell_type": "markdown",
   "metadata": {},
   "source": [
    "### Diffusion"
   ]
  },
  {
   "cell_type": "code",
   "execution_count": 18,
   "metadata": {},
   "outputs": [],
   "source": [
    "DFxyE_diff = grid.diff_2d_vector({'X' : ds.DFxE_TH, 'Y' : ds.DFyE_TH}, boundary = 'fill')\n",
    "DFxE_diffx = DFxyE_diff['X']\n",
    "DFyE_diffy = DFxyE_diff['Y']\n",
    "\n",
    "# Convergence of horizontal diffusion (degC/s)\n",
    "dif_hConvH = (-(DFxE_diffx + DFyE_diffy)/vol).transpose('time','face','k','j','i')\n",
    "\n",
    "# Convergence of vertical diffusion (degC/s)\n",
    "DFrE_TH = ds.DFrE_TH.transpose('time','face','k_l','j','i')\n",
    "DFrI_TH = ds.DFrI_TH.transpose('time','face','k_l','j','i')\n",
    "dif_vConvH = ((grid.diff(DFrE_TH, 'Z', boundary='fill') + \\\n",
    "               grid.diff(DFrI_TH, 'Z', boundary='fill'))/vol).transpose('time','face','k','j','i')"
   ]
  },
  {
   "cell_type": "markdown",
   "metadata": {},
   "source": [
    "### Save to dataset"
   ]
  },
  {
   "cell_type": "code",
   "execution_count": 19,
   "metadata": {},
   "outputs": [],
   "source": [
    "varnames = ['tendH','forcH','adv_hConvH','adv_vConvH','dif_hConvH','dif_vConvH']\n",
    "\n",
    "ds_budg = xr.Dataset(data_vars={})\n",
    "for varname in varnames:\n",
    "    ds_budg[varname] = globals()[varname].chunk(chunks={'time':1,'face':13,'k':50,'j':90,'i':90})\n",
    "    \n",
    "ds_budg = ds_budg.assign_coords(dt=dt)\n",
    "ds_budg.dt.attrs = {'units': 's','standard_name': 'dt','coordinate': 'time',\n",
    "                    'long_name': 'time span between snapshots'}\n",
    "ds_budg.time.encoding = {}"
   ]
  },
  {
   "cell_type": "markdown",
   "metadata": {},
   "source": [
    "## Monthly anomaly budget of temperature\n",
    "\n",
    "Anomaly budget equation:\n",
    "$$\\frac{\\partial\\theta^{\\prime}}{\\partial t} + \\nabla\\cdot(\\overline{\\mathbf{u}}^m\\theta^{\\prime}) + \\nabla\\cdot(\\mathbf{u}^{\\prime}\\overline{\\theta}^m) - \\nabla \\cdot ({\\mathbf{u}}^{\\prime}\\,\\theta^{\\prime}-\\overline{\\mathbf{u}^{\\prime}\\,\\theta^{\\prime}}^m) = -\\nabla \\cdot {\\mathbf{F_{diff}}}^{\\prime} - F_{\\textrm{forc}}^{\\prime}$$"
   ]
  },
  {
   "cell_type": "markdown",
   "metadata": {},
   "source": [
    "Remove oceFWflx from WVELMASS"
   ]
  },
  {
   "cell_type": "code",
   "execution_count": 20,
   "metadata": {},
   "outputs": [],
   "source": [
    "WVELMASS = ds.WVELMASS.transpose('time','face','k_l','j','i')\n",
    "oceFWflx = ds.oceFWflx.assign_coords(k_l=0).expand_dims('k_l').transpose('time','face','k_l','j','i')\n",
    "oceFWflx = (oceFWflx/rhoconst)\n",
    "\n",
    "WVELMASS = xr.concat([WVELMASS.sel(k_l=0) + oceFWflx, WVELMASS[:,:,1:]], \n",
    "                     dim='k_l').transpose('time','face','k_l','j','i')"
   ]
  },
  {
   "cell_type": "markdown",
   "metadata": {},
   "source": [
    "Seperate averages and snapshots"
   ]
  },
  {
   "cell_type": "code",
   "execution_count": 21,
   "metadata": {},
   "outputs": [],
   "source": [
    "ds_ave = ds[['ETAN','THETA','UVELMASS','VVELMASS','WVELMASS',\n",
    "             'ADVx_TH','ADVx_SLT','ADVy_TH','ADVy_SLT','ADVr_TH','ADVr_SLT']]\n",
    "\n",
    "ds_snp = ds[['ETAN_snp','THETA_snp','SALT_snp']].rename({'time_snp':'time'})"
   ]
  },
  {
   "cell_type": "markdown",
   "metadata": {},
   "source": [
    "Monthly means (climatology)"
   ]
  },
  {
   "cell_type": "code",
   "execution_count": 22,
   "metadata": {},
   "outputs": [],
   "source": [
    "ds_ave_clim = ds_ave.groupby('time.month').mean('time')\n",
    "WVELMASS_clim = WVELMASS.groupby('time.month').mean('time')\n",
    "ds_snp_clim = ds_snp.groupby('time.month').mean('time')\n",
    "ds_budg_clim = ds_budg.groupby('time.month').mean('time')"
   ]
  },
  {
   "cell_type": "markdown",
   "metadata": {},
   "source": [
    "Monthly anomalies"
   ]
  },
  {
   "cell_type": "code",
   "execution_count": 23,
   "metadata": {},
   "outputs": [],
   "source": [
    "ds_ave_anom = ds_ave.groupby('time.month') - ds_ave_clim\n",
    "WVELMASS_anom = WVELMASS.groupby('time.month') - WVELMASS_clim\n",
    "ds_snp_anom = ds_snp.groupby('time.month') - ds_snp_clim\n",
    "ds_budg_anom = ds_budg.groupby('time.month') - ds_budg_clim"
   ]
  },
  {
   "cell_type": "markdown",
   "metadata": {},
   "source": [
    "### Decomposition of advective fluxes"
   ]
  },
  {
   "cell_type": "markdown",
   "metadata": {},
   "source": [
    "#### Monthly mean terms"
   ]
  },
  {
   "cell_type": "code",
   "execution_count": 24,
   "metadata": {},
   "outputs": [],
   "source": [
    "grid = xgcm.Grid(ds_ave_clim, face_connections=face_connections)\n",
    "\n",
    "# Transport\n",
    "u_clim = (ds_ave_clim.UVELMASS * coords.dyG * coords.drF).transpose('month','face','k','j','i_g')\n",
    "v_clim = (ds_ave_clim.VVELMASS * coords.dxG * coords.drF).transpose('month','face','k','j_g','i')\n",
    "w_clim = (WVELMASS_clim * coords.rA).transpose('month','face','k_l','j','i')\n",
    "\n",
    "# Potential Temperature (degC)\n",
    "THETA_clim = ds_ave_clim.THETA.transpose('month','face','k','j','i')\n",
    "THETA_clim_at_u = grid.interp(THETA_clim, 'X', boundary='extend')\n",
    "THETA_clim_at_v = grid.interp(THETA_clim, 'Y', boundary='extend')\n",
    "THETA_clim_at_w = grid.interp(THETA_clim, 'Z', boundary='extend')"
   ]
  },
  {
   "cell_type": "markdown",
   "metadata": {},
   "source": [
    "#### Monthly anomaly terms"
   ]
  },
  {
   "cell_type": "code",
   "execution_count": 25,
   "metadata": {},
   "outputs": [],
   "source": [
    "grid = xgcm.Grid(ds_ave_anom, face_connections=face_connections)\n",
    "\n",
    "# Transport\n",
    "u_anom = (ds_ave_anom.UVELMASS * coords.dyG * coords.drF).transpose('time','face','k','j','i_g')\n",
    "v_anom = (ds_ave_anom.VVELMASS * coords.dxG * coords.drF).transpose('time','face','k','j_g','i')\n",
    "w_anom = (WVELMASS_anom * coords.rA).transpose('time','face','k_l','j','i')\n",
    "\n",
    "# Temperature\n",
    "THETA_anom = ds_ave_anom.THETA.transpose('time','face','k','j','i')\n",
    "THETA_anom_at_u = grid.interp(THETA_anom, 'X', boundary='extend')\n",
    "THETA_anom_at_v = grid.interp(THETA_anom, 'Y', boundary='extend')\n",
    "THETA_anom_at_w = grid.interp(THETA_anom, 'Z', boundary='extend')"
   ]
  },
  {
   "cell_type": "markdown",
   "metadata": {},
   "source": [
    "### Mean advection of anomalous temperature, $\\nabla\\cdot(\\overline{\\mathbf{u}}^m\\theta^{\\prime})$"
   ]
  },
  {
   "cell_type": "code",
   "execution_count": 26,
   "metadata": {},
   "outputs": [],
   "source": [
    "uclimTanom = u_clim * THETA_anom_at_u.groupby('time.month')\n",
    "vclimTanom = v_clim * THETA_anom_at_v.groupby('time.month')\n",
    "wclimTanom = w_clim * THETA_anom_at_w.groupby('time.month')\n",
    "\n",
    "# Convergence (horizontal)\n",
    "ADVxy_diff = grid.diff_2d_vector({'X' : uclimTanom, 'Y' : vclimTanom}, boundary = 'fill')\n",
    "ADVx_diffx = ADVxy_diff['X']\n",
    "ADVy_diffy = ADVxy_diff['Y']\n",
    "adv_hConvH_Uclim_Tanom = (-(ADVx_diffx + ADVy_diffy)/vol)\n",
    "\n",
    "# Convergence (vertical)\n",
    "adv_vConvH_Uclim_Tanom = (grid.diff(wclimTanom, 'Z', boundary='fill')/vol)"
   ]
  },
  {
   "cell_type": "markdown",
   "metadata": {},
   "source": [
    "### Anomalous advection of mean temperature, $\\nabla\\cdot(\\mathbf{u}^{\\prime}\\overline{\\theta}^m)$"
   ]
  },
  {
   "cell_type": "code",
   "execution_count": 27,
   "metadata": {},
   "outputs": [
    {
     "name": "stderr",
     "output_type": "stream",
     "text": [
      "/opt/conda/lib/python3.6/site-packages/dask/array/core.py:3468: PerformanceWarning: Increasing number of chunks by factor of 24\n",
      "  **atop_kwargs)\n",
      "/opt/conda/lib/python3.6/site-packages/dask/array/core.py:3468: PerformanceWarning: Increasing number of chunks by factor of 24\n",
      "  **atop_kwargs)\n",
      "/opt/conda/lib/python3.6/site-packages/dask/array/core.py:3468: PerformanceWarning: Increasing number of chunks by factor of 24\n",
      "  **atop_kwargs)\n",
      "/opt/conda/lib/python3.6/site-packages/dask/array/core.py:3468: PerformanceWarning: Increasing number of chunks by factor of 24\n",
      "  **atop_kwargs)\n",
      "/opt/conda/lib/python3.6/site-packages/dask/array/core.py:3468: PerformanceWarning: Increasing number of chunks by factor of 24\n",
      "  **atop_kwargs)\n",
      "/opt/conda/lib/python3.6/site-packages/dask/array/core.py:3468: PerformanceWarning: Increasing number of chunks by factor of 24\n",
      "  **atop_kwargs)\n",
      "/opt/conda/lib/python3.6/site-packages/dask/array/core.py:3468: PerformanceWarning: Increasing number of chunks by factor of 24\n",
      "  **atop_kwargs)\n",
      "/opt/conda/lib/python3.6/site-packages/dask/array/core.py:3468: PerformanceWarning: Increasing number of chunks by factor of 24\n",
      "  **atop_kwargs)\n",
      "/opt/conda/lib/python3.6/site-packages/dask/array/core.py:3468: PerformanceWarning: Increasing number of chunks by factor of 24\n",
      "  **atop_kwargs)\n",
      "/opt/conda/lib/python3.6/site-packages/dask/array/core.py:3468: PerformanceWarning: Increasing number of chunks by factor of 24\n",
      "  **atop_kwargs)\n",
      "/opt/conda/lib/python3.6/site-packages/dask/array/core.py:3468: PerformanceWarning: Increasing number of chunks by factor of 24\n",
      "  **atop_kwargs)\n",
      "/opt/conda/lib/python3.6/site-packages/dask/array/core.py:3468: PerformanceWarning: Increasing number of chunks by factor of 24\n",
      "  **atop_kwargs)\n",
      "/opt/conda/lib/python3.6/site-packages/dask/array/core.py:3468: PerformanceWarning: Increasing number of chunks by factor of 24\n",
      "  **atop_kwargs)\n",
      "/opt/conda/lib/python3.6/site-packages/dask/array/core.py:3468: PerformanceWarning: Increasing number of chunks by factor of 24\n",
      "  **atop_kwargs)\n",
      "/opt/conda/lib/python3.6/site-packages/dask/array/core.py:3468: PerformanceWarning: Increasing number of chunks by factor of 24\n",
      "  **atop_kwargs)\n",
      "/opt/conda/lib/python3.6/site-packages/dask/array/core.py:3468: PerformanceWarning: Increasing number of chunks by factor of 24\n",
      "  **atop_kwargs)\n",
      "/opt/conda/lib/python3.6/site-packages/dask/array/core.py:3468: PerformanceWarning: Increasing number of chunks by factor of 24\n",
      "  **atop_kwargs)\n",
      "/opt/conda/lib/python3.6/site-packages/dask/array/core.py:3468: PerformanceWarning: Increasing number of chunks by factor of 24\n",
      "  **atop_kwargs)\n",
      "/opt/conda/lib/python3.6/site-packages/dask/array/core.py:3468: PerformanceWarning: Increasing number of chunks by factor of 24\n",
      "  **atop_kwargs)\n",
      "/opt/conda/lib/python3.6/site-packages/dask/array/core.py:3468: PerformanceWarning: Increasing number of chunks by factor of 24\n",
      "  **atop_kwargs)\n",
      "/opt/conda/lib/python3.6/site-packages/dask/array/core.py:3468: PerformanceWarning: Increasing number of chunks by factor of 24\n",
      "  **atop_kwargs)\n",
      "/opt/conda/lib/python3.6/site-packages/dask/array/core.py:3468: PerformanceWarning: Increasing number of chunks by factor of 24\n",
      "  **atop_kwargs)\n",
      "/opt/conda/lib/python3.6/site-packages/dask/array/core.py:3468: PerformanceWarning: Increasing number of chunks by factor of 24\n",
      "  **atop_kwargs)\n",
      "/opt/conda/lib/python3.6/site-packages/dask/array/core.py:3468: PerformanceWarning: Increasing number of chunks by factor of 24\n",
      "  **atop_kwargs)\n"
     ]
    }
   ],
   "source": [
    "uanomTclim = u_anom.groupby('time.month') * THETA_clim_at_u\n",
    "vanomTclim = v_anom.groupby('time.month') * THETA_clim_at_v\n",
    "wanomTclim = w_anom.groupby('time.month') * THETA_clim_at_w\n",
    "\n",
    "# Convergence (horizontal)\n",
    "ADVxy_diff = grid.diff_2d_vector({'X' : uanomTclim, 'Y' : vanomTclim}, boundary = 'fill')\n",
    "ADVx_diffx = ADVxy_diff['X']\n",
    "ADVy_diffy = ADVxy_diff['Y']\n",
    "adv_hConvH_Uanom_Tclim = (-(ADVx_diffx + ADVy_diffy)/vol)\n",
    "\n",
    "# Convergence (vertical)\n",
    "adv_vConvH_Uanom_Tclim = (grid.diff(wanomTclim, 'Z', boundary='fill')/vol)"
   ]
  },
  {
   "cell_type": "markdown",
   "metadata": {},
   "source": [
    "### Anomalous advection of anomalous temperature, $\\nabla \\cdot ({\\mathbf{u}}^{\\prime}\\,\\theta^{\\prime}-\\overline{\\mathbf{u}^{\\prime}\\,\\theta^{\\prime}}^m)$"
   ]
  },
  {
   "cell_type": "code",
   "execution_count": 28,
   "metadata": {},
   "outputs": [],
   "source": [
    "uanomTanom = u_anom * THETA_anom_at_u\n",
    "vanomTanom = v_anom * THETA_anom_at_v\n",
    "wanomTanom = w_anom * THETA_anom_at_w\n",
    "\n",
    "uanomTanom_clim = uanomTanom.groupby('time.month').mean('time')\n",
    "vanomTanom_clim = vanomTanom.groupby('time.month').mean('time')\n",
    "wanomTanom_clim = wanomTanom.groupby('time.month').mean('time')\n",
    "\n",
    "uanomTanom_clim_anom = uanomTanom.groupby('time.month') - uanomTanom_clim\n",
    "vanomTanom_clim_anom = vanomTanom.groupby('time.month') - vanomTanom_clim\n",
    "wanomTanom_clim_anom = wanomTanom.groupby('time.month') - wanomTanom_clim\n",
    "\n",
    "# Convergence (horizontal)\n",
    "ADVxy_diff = grid.diff_2d_vector({'X' : uanomTanom_clim_anom, 'Y' : vanomTanom_clim_anom}, boundary = 'fill')\n",
    "ADVx_diffx = ADVxy_diff['X']\n",
    "ADVy_diffy = ADVxy_diff['Y']\n",
    "adv_hConvH_Uanom_Tanom = (-(ADVx_diffx + ADVy_diffy)/vol)\n",
    "\n",
    "# Convergence (vertical)\n",
    "adv_vConvH_Uanom_Tanom = (grid.diff(wanomTanom_clim_anom, 'Z', boundary='fill')/vol)"
   ]
  },
  {
   "cell_type": "markdown",
   "metadata": {},
   "source": [
    "### Residual (in the advective flux)"
   ]
  },
  {
   "cell_type": "code",
   "execution_count": 29,
   "metadata": {},
   "outputs": [],
   "source": [
    "grid = xgcm.Grid(ds_ave, face_connections=face_connections)"
   ]
  },
  {
   "cell_type": "code",
   "execution_count": 30,
   "metadata": {},
   "outputs": [],
   "source": [
    "# Transport\n",
    "u_transport = (ds_ave.UVELMASS * coords.dyG * coords.drF)\n",
    "v_transport = (ds_ave.VVELMASS * coords.dxG * coords.drF)\n",
    "w_transport = (WVELMASS * rA)\n",
    "\n",
    "# Temperature\n",
    "THETA = ds_ave.THETA\n",
    "THETA_at_u = grid.interp(THETA, 'X', boundary='extend')\n",
    "THETA_at_v = grid.interp(THETA, 'Y', boundary='extend')\n",
    "THETA_at_w = grid.interp(THETA, 'Z', boundary='extend')\n",
    "\n",
    "# Advection\n",
    "uT = (u_transport * THETA_at_u)\n",
    "vT = (v_transport * THETA_at_v)\n",
    "wT = (w_transport * THETA_at_w)\n",
    "\n",
    "# Convergence\n",
    "ADVxy_diff = grid.diff_2d_vector({'X' : uT, 'Y' : vT}, boundary = 'fill')\n",
    "ADVx_diffx = ADVxy_diff['X']\n",
    "ADVy_diffy = ADVxy_diff['Y']\n",
    "adv_hConvH = (-(ADVx_diffx + ADVy_diffy)/vol).transpose('time','face','k','j','i')\n",
    "adv_vConvH = (grid.diff(wT, 'Z', boundary='fill')/vol).transpose('time','face','k','j','i')\n",
    "\n",
    "# Reconstructed\n",
    "adv_ConvH_reco = adv_hConvH + adv_vConvH\n",
    "\n",
    "# True (diagnostic)\n",
    "adv_ConvH_true = ds_budg.adv_hConvH + ds_budg.adv_vConvH\n",
    "\n",
    "# Residual\n",
    "adv_ConvH_res = adv_ConvH_true - adv_ConvH_reco\n",
    "adv_ConvH_res_clim = adv_ConvH_res.groupby('time.month').mean('time')\n",
    "adv_ConvH_res_anom = adv_ConvH_res.groupby('time.month') - adv_ConvH_res_clim"
   ]
  },
  {
   "cell_type": "markdown",
   "metadata": {},
   "source": [
    "### Save to dataset"
   ]
  },
  {
   "cell_type": "code",
   "execution_count": 31,
   "metadata": {},
   "outputs": [],
   "source": [
    "ds = xr.Dataset(data_vars={})\n",
    "\n",
    "# Tendency\n",
    "ds['tnd'] = ds_budg_anom.tendH.chunk(chunks={'time':1,'face':13,'k':50,'j':90,'i':90})\n",
    "\n",
    "# Forcing\n",
    "ds['frc'] = ds_budg_anom.forcH.chunk(chunks={'time':1,'face':13,'k':50,'j':90,'i':90})\n",
    "\n",
    "# Mixing\n",
    "ds['hdif'] = ds_budg_anom.dif_hConvH.chunk(chunks={'time':1,'face':13,'k':50,'j':90,'i':90})\n",
    "ds['vdif'] = ds_budg_anom.dif_vConvH.chunk(chunks={'time':1,'face':13,'k':50,'j':90,'i':90})\n",
    "\n",
    "# Advection (Ubar Tprime)\n",
    "ds['hadv_Uclim_Tanom'] = adv_hConvH_Uclim_Tanom.chunk(chunks={'time':1,'face':13,'k':50,'j':90,'i':90})\n",
    "ds['vadv_Uclim_Tanom'] = adv_vConvH_Uclim_Tanom.chunk(chunks={'time':1,'face':13,'k':50,'j':90,'i':90})\n",
    "\n",
    "# Advection (Uprime Tbar)\n",
    "ds['hadv_Uanom_Tclim'] = adv_hConvH_Uanom_Tclim.chunk(chunks={'time':1,'face':13,'k':50,'j':90,'i':90})\n",
    "ds['vadv_Uanom_Tclim'] = adv_vConvH_Uanom_Tclim.chunk(chunks={'time':1,'face':13,'k':50,'j':90,'i':90})\n",
    "\n",
    "# Advection (Uprime Tprime)\n",
    "ds['hadv_Uanom_Tanom'] = adv_hConvH_Uanom_Tanom.chunk(chunks={'time':1,'face':13,'k':50,'j':90,'i':90})\n",
    "ds['vadv_Uanom_Tanom'] = adv_vConvH_Uanom_Tanom.chunk(chunks={'time':1,'face':13,'k':50,'j':90,'i':90})\n",
    "\n",
    "# Residual\n",
    "ds['res'] = adv_ConvH_res_anom.chunk(chunks={'time':1,'face':13,'k':50,'j':90,'i':90})"
   ]
  },
  {
   "cell_type": "markdown",
   "metadata": {},
   "source": [
    "## Depth average"
   ]
  },
  {
   "cell_type": "code",
   "execution_count": 32,
   "metadata": {},
   "outputs": [
    {
     "name": "stdout",
     "output_type": "stream",
     "text": [
      "[-5 -15 -25 -35 -45 -55 -65 -75.005 -85.025 -95.095 -105.31 -115.87\n",
      " -127.15 -139.74 -154.47 -172.4 -194.735 -222.71 -257.47 -299.93 -350.68\n",
      " -409.93 -477.47 -552.71 -634.735 -722.4 -814.47 -909.74 -1007.16 -1105.91\n",
      " -1205.54 -1306.2 -1409.15 -1517.09 -1634.18 -1765.14 -1914.15 -2084.03\n",
      " -2276.23 -2491.25 -2729.25 -2990.25 -3274.25 -3581.25 -3911.25 -4264.25\n",
      " -4640.25 -5039.25 -5461.25 -5906.25]\n"
     ]
    }
   ],
   "source": [
    "np.set_printoptions(formatter={\"float_kind\": lambda x: \"%g\" % x})\n",
    "print(coords.Z.values)"
   ]
  },
  {
   "cell_type": "markdown",
   "metadata": {},
   "source": [
    "**Depth of integration**:\n",
    "- 299.93 m (~300 m)\n",
    "- 722.4 m (~700 m)\n",
    "- 2084.03 m (~2000 m)\n",
    "- 5906.25 m (full-depth)"
   ]
  },
  {
   "cell_type": "code",
   "execution_count": 33,
   "metadata": {},
   "outputs": [],
   "source": [
    "ds.coords['Z'] = coords.Z\n",
    "ds.coords['hFacC'] = coords.hFacC\n",
    "ds.coords['drF'] = coords.drF"
   ]
  },
  {
   "cell_type": "code",
   "execution_count": 34,
   "metadata": {},
   "outputs": [],
   "source": [
    "ds = ds.swap_dims({'k':'Z'})"
   ]
  },
  {
   "cell_type": "code",
   "execution_count": 35,
   "metadata": {},
   "outputs": [
    {
     "name": "stdout",
     "output_type": "stream",
     "text": [
      "-2084.035\n"
     ]
    }
   ],
   "source": [
    "z_lower = 2100\n",
    "print(ds.sel(Z=slice(0,-z_lower)).Z[-1].values)"
   ]
  },
  {
   "cell_type": "code",
   "execution_count": 36,
   "metadata": {},
   "outputs": [],
   "source": [
    "ds_aveZ = (ds*ds.hFacC*ds.drF).sel(Z=slice(0,-z_lower)).sum('Z')/\\\n",
    "            (ds.hFacC*ds.drF).sel(Z=slice(0,-z_lower)).sum('Z')"
   ]
  },
  {
   "cell_type": "markdown",
   "metadata": {},
   "source": [
    "### Plot timeseries (tendencies)"
   ]
  },
  {
   "cell_type": "code",
   "execution_count": 39,
   "metadata": {},
   "outputs": [],
   "source": [
    "import dask"
   ]
  },
  {
   "cell_type": "code",
   "execution_count": 38,
   "metadata": {},
   "outputs": [
    {
     "name": "stdout",
     "output_type": "stream",
     "text": [
      "Longitude: -27.50, Latitude: 46.45\n"
     ]
    }
   ],
   "source": [
    "f = 2\n",
    "j = 42\n",
    "i = 10\n",
    "\n",
    "lon = coords.XC[f,j,i].values\n",
    "lat = coords.YC[f,j,i].values\n",
    "print(r'Longitude: %.2f,' % lon,'Latitude: %.2f' % lat)"
   ]
  },
  {
   "cell_type": "code",
   "execution_count": null,
   "metadata": {},
   "outputs": [],
   "source": [
    "results = dask.compute(ds_aveZ.tnd[:,f,j,i],\n",
    "                       ds_aveZ.hadv_Uanom_Tclim[:,f,j,i],\n",
    "                       ds_aveZ.vadv_Uanom_Tclim[:,f,j,i],\n",
    "                       ds_aveZ.hadv_Uclim_Tanom[:,f,j,i], \n",
    "                       ds_aveZ.vadv_Uclim_Tanom[:,f,j,i],\n",
    "                       ds_aveZ.hdif[:,f,j,i]+ds_aveZ.vdif[:,f,j,i],\n",
    "                       ds_aveZ.frc[:,f,j,i],\n",
    "                       ds_aveZ.hadv_Uanom_Tanom[:,f,j,i]+ds_aveZ.vadv_Uanom_Tanom[:,f,j,i],\n",
    "                       ds_aveZ.res[:,f,j,i])"
   ]
  },
  {
   "cell_type": "markdown",
   "metadata": {},
   "source": [
    "Rechunk"
   ]
  },
  {
   "cell_type": "code",
   "execution_count": 37,
   "metadata": {},
   "outputs": [],
   "source": [
    "for varname in ds_aveZ.data_vars:\n",
    "    ds_aveZ[varname] = ds_aveZ[varname].chunk(chunks={'time':288,'face':1,'j':90,'i':90})"
   ]
  },
  {
   "cell_type": "markdown",
   "metadata": {},
   "source": [
    "### Integrate over time"
   ]
  },
  {
   "cell_type": "code",
   "execution_count": 38,
   "metadata": {},
   "outputs": [],
   "source": [
    "ds_intT = (ds_aveZ.isel(time=slice(1, -1))*ds_budg.isel(time=slice(1, -1)).dt).cumsum(dim='time')"
   ]
  },
  {
   "cell_type": "code",
   "execution_count": 39,
   "metadata": {},
   "outputs": [],
   "source": [
    "ds_intT['time'] = coords.time.isel(time=slice(1, -1))"
   ]
  },
  {
   "cell_type": "code",
   "execution_count": 40,
   "metadata": {},
   "outputs": [
    {
     "data": {
      "text/plain": [
       "<xarray.Dataset>\n",
       "Dimensions:           (face: 13, i: 90, j: 90, time: 286)\n",
       "Coordinates:\n",
       "  * time              (time) datetime64[ns] 1992-02-13 1992-03-15 1992-04-14 ...\n",
       "  * i                 (i) int64 0 1 2 3 4 5 6 7 8 9 10 11 12 13 14 15 16 17 ...\n",
       "  * j                 (j) int64 0 1 2 3 4 5 6 7 8 9 10 11 12 13 14 15 16 17 ...\n",
       "  * face              (face) int64 0 1 2 3 4 5 6 7 8 9 10 11 12\n",
       "Data variables:\n",
       "    tnd               (time, face, j, i) float64 dask.array<shape=(286, 13, 90, 90), chunksize=(286, 1, 90, 90)>\n",
       "    frc               (time, face, j, i) float64 dask.array<shape=(286, 13, 90, 90), chunksize=(286, 1, 90, 90)>\n",
       "    hdif              (time, face, j, i) float64 dask.array<shape=(286, 13, 90, 90), chunksize=(286, 1, 90, 90)>\n",
       "    vdif              (time, face, j, i) float64 dask.array<shape=(286, 13, 90, 90), chunksize=(286, 1, 90, 90)>\n",
       "    hadv_Uclim_Tanom  (time, face, j, i) float64 dask.array<shape=(286, 13, 90, 90), chunksize=(286, 1, 90, 90)>\n",
       "    vadv_Uclim_Tanom  (time, face, j, i) float64 dask.array<shape=(286, 13, 90, 90), chunksize=(286, 1, 90, 90)>\n",
       "    hadv_Uanom_Tclim  (time, face, j, i) float64 dask.array<shape=(286, 13, 90, 90), chunksize=(286, 1, 90, 90)>\n",
       "    vadv_Uanom_Tclim  (time, face, j, i) float64 dask.array<shape=(286, 13, 90, 90), chunksize=(286, 1, 90, 90)>\n",
       "    hadv_Uanom_Tanom  (time, face, j, i) float64 dask.array<shape=(286, 13, 90, 90), chunksize=(286, 1, 90, 90)>\n",
       "    vadv_Uanom_Tanom  (time, face, j, i) float64 dask.array<shape=(286, 13, 90, 90), chunksize=(286, 1, 90, 90)>\n",
       "    res               (time, face, j, i) float64 dask.array<shape=(286, 13, 90, 90), chunksize=(286, 1, 90, 90)>"
      ]
     },
     "execution_count": 40,
     "metadata": {},
     "output_type": "execute_result"
    }
   ],
   "source": [
    "ds_intT"
   ]
  },
  {
   "cell_type": "markdown",
   "metadata": {},
   "source": [
    "### Detrend"
   ]
  },
  {
   "cell_type": "code",
   "execution_count": 41,
   "metadata": {},
   "outputs": [],
   "source": [
    "from scipy import stats"
   ]
  },
  {
   "cell_type": "code",
   "execution_count": 42,
   "metadata": {},
   "outputs": [],
   "source": [
    "def detrend(y):\n",
    "    x = np.arange(0,len(y))\n",
    "    not_nan_ind = ~np.isnan(y)\n",
    "    if len(x[not_nan_ind]) < 2:\n",
    "        return np.nan * y\n",
    "    m, b, r_val, p_val, std_err = stats.linregress(x[not_nan_ind],y[not_nan_ind])\n",
    "    return  y - (m*x + b)"
   ]
  },
  {
   "cell_type": "code",
   "execution_count": null,
   "metadata": {},
   "outputs": [
    {
     "name": "stderr",
     "output_type": "stream",
     "text": [
      "distributed.utils_perf - WARNING - full garbage collections took 11% CPU time recently (threshold: 10%)\n",
      "distributed.utils_perf - WARNING - full garbage collections took 12% CPU time recently (threshold: 10%)\n",
      "distributed.utils_perf - WARNING - full garbage collections took 12% CPU time recently (threshold: 10%)\n",
      "distributed.utils_perf - WARNING - full garbage collections took 12% CPU time recently (threshold: 10%)\n",
      "distributed.utils_perf - WARNING - full garbage collections took 12% CPU time recently (threshold: 10%)\n",
      "distributed.utils_perf - WARNING - full garbage collections took 12% CPU time recently (threshold: 10%)\n",
      "distributed.utils_perf - WARNING - full garbage collections took 12% CPU time recently (threshold: 10%)\n",
      "distributed.utils_perf - WARNING - full garbage collections took 12% CPU time recently (threshold: 10%)\n",
      "distributed.utils_perf - WARNING - full garbage collections took 12% CPU time recently (threshold: 10%)\n",
      "distributed.utils_perf - WARNING - full garbage collections took 12% CPU time recently (threshold: 10%)\n",
      "distributed.utils_perf - WARNING - full garbage collections took 12% CPU time recently (threshold: 10%)\n",
      "distributed.utils_perf - WARNING - full garbage collections took 12% CPU time recently (threshold: 10%)\n",
      "distributed.utils_perf - WARNING - full garbage collections took 12% CPU time recently (threshold: 10%)\n",
      "distributed.utils_perf - WARNING - full garbage collections took 12% CPU time recently (threshold: 10%)\n",
      "distributed.utils_perf - WARNING - full garbage collections took 12% CPU time recently (threshold: 10%)\n",
      "distributed.utils_perf - WARNING - full garbage collections took 12% CPU time recently (threshold: 10%)\n",
      "distributed.utils_perf - WARNING - full garbage collections took 12% CPU time recently (threshold: 10%)\n",
      "distributed.utils_perf - WARNING - full garbage collections took 12% CPU time recently (threshold: 10%)\n",
      "distributed.utils_perf - WARNING - full garbage collections took 12% CPU time recently (threshold: 10%)\n",
      "distributed.utils_perf - WARNING - full garbage collections took 12% CPU time recently (threshold: 10%)\n",
      "distributed.utils_perf - WARNING - full garbage collections took 11% CPU time recently (threshold: 10%)\n",
      "distributed.utils_perf - WARNING - full garbage collections took 11% CPU time recently (threshold: 10%)\n",
      "distributed.utils_perf - WARNING - full garbage collections took 11% CPU time recently (threshold: 10%)\n",
      "distributed.utils_perf - WARNING - full garbage collections took 12% CPU time recently (threshold: 10%)\n",
      "distributed.utils_perf - WARNING - full garbage collections took 12% CPU time recently (threshold: 10%)\n",
      "distributed.utils_perf - WARNING - full garbage collections took 12% CPU time recently (threshold: 10%)\n",
      "distributed.utils_perf - WARNING - full garbage collections took 12% CPU time recently (threshold: 10%)\n",
      "distributed.utils_perf - WARNING - full garbage collections took 12% CPU time recently (threshold: 10%)\n",
      "distributed.utils_perf - WARNING - full garbage collections took 12% CPU time recently (threshold: 10%)\n",
      "distributed.utils_perf - WARNING - full garbage collections took 12% CPU time recently (threshold: 10%)\n",
      "distributed.utils_perf - WARNING - full garbage collections took 12% CPU time recently (threshold: 10%)\n",
      "distributed.utils_perf - WARNING - full garbage collections took 12% CPU time recently (threshold: 10%)\n",
      "distributed.utils_perf - WARNING - full garbage collections took 12% CPU time recently (threshold: 10%)\n",
      "distributed.utils_perf - WARNING - full garbage collections took 12% CPU time recently (threshold: 10%)\n",
      "distributed.utils_perf - WARNING - full garbage collections took 12% CPU time recently (threshold: 10%)\n",
      "distributed.utils_perf - WARNING - full garbage collections took 12% CPU time recently (threshold: 10%)\n",
      "distributed.utils_perf - WARNING - full garbage collections took 12% CPU time recently (threshold: 10%)\n",
      "distributed.utils_perf - WARNING - full garbage collections took 12% CPU time recently (threshold: 10%)\n"
     ]
    }
   ],
   "source": [
    "ds_intT_dtr = xr.Dataset(data_vars={})\n",
    "for varname in ds_intT.data_vars:\n",
    "    ds_intT_dtr[varname] = xr.DataArray(np.apply_along_axis(detrend, 0, \n",
    "                                                            ds_intT[varname].transpose('time','face','j','i')),\n",
    "                                        coords=[ds_intT.time,ds_intT.face,ds_intT.j,ds_intT.i],\n",
    "                                        dims=['time','face','j','i'])"
   ]
  },
  {
   "cell_type": "markdown",
   "metadata": {},
   "source": [
    "### Correlation analysis"
   ]
  },
  {
   "cell_type": "code",
   "execution_count": null,
   "metadata": {},
   "outputs": [],
   "source": [
    "ds_intT_dtr['dif'] = ds_intT_dtr.hdif + ds_intT_dtr.vdif\n",
    "ds_intT_dtr['adv_Uanom_Tanom'] = ds_intT_dtr.hadv_Uanom_Tanom + ds_intT_dtr.vadv_Uanom_Tanom"
   ]
  },
  {
   "cell_type": "code",
   "execution_count": null,
   "metadata": {},
   "outputs": [],
   "source": [
    "def get_cov_ratio(x,y):\n",
    "    y_var = np.var(y[0,0,0],ddof=1)\n",
    "    cov = np.cov(x[0,0,0], y[0,0,0])[0][1]\n",
    "    cov_ratio = (cov/y_var).round(2)\n",
    "    return cov_ratio.reshape(1,1,1)"
   ]
  },
  {
   "cell_type": "code",
   "execution_count": null,
   "metadata": {},
   "outputs": [],
   "source": [
    "ds_corr = xr.Dataset(data_vars={})\n",
    "\n",
    "# np.errstate(): ignore multiple warnings\n",
    "# RuntimeWarning: invalid value encountered in true_divide\n",
    "with np.errstate(invalid='ignore', divide='ignore'):\n",
    "    \n",
    "    # Define y (total tendency)\n",
    "    y = ds_intT_dtr.tnd.transpose('face','j','i','time').chunk(chunks=(1,1,1,-1))\n",
    "\n",
    "    for varname in ds_intT_dtr.data_vars:\n",
    "        if (varname == 'tnd' or varname == 'vdif' or varname == 'hdif' \\\n",
    "            or varname == 'hadv_Uanom_Tanom' or varname == 'vadv_Uanom_Tanom' ):\n",
    "            continue\n",
    "        \n",
    "        # Define x (Anomaly budget terms)\n",
    "        x = ds_intT_dtr[varname].transpose('face','j','i','time').chunk(chunks=(1,1,1,-1))\n",
    "        \n",
    "        # Map function across all blocks of a dask array\n",
    "        cov_ratio = dask.array.map_blocks(get_cov_ratio, x.data, y.data, dtype=np.float64, drop_axis=3)\n",
    "        \n",
    "        # Save to dataset\n",
    "        ds_corr[varname] = xr.DataArray(cov_ratio,coords=[ds_intT_dtr.face,ds_intT_dtr.j,ds_intT_dtr.i],\n",
    "                                        dims=['face','j','i'])"
   ]
  },
  {
   "cell_type": "code",
   "execution_count": 66,
   "metadata": {},
   "outputs": [],
   "source": [
    "import matplotlib.pyplot as plt\n",
    "%matplotlib inline"
   ]
  },
  {
   "cell_type": "code",
   "execution_count": 67,
   "metadata": {},
   "outputs": [
    {
     "data": {
      "text/plain": [
       "<matplotlib.collections.QuadMesh at 0x7fdc7954a4e0>"
      ]
     },
     "execution_count": 67,
     "metadata": {},
     "output_type": "execute_result"
    },
    {
     "data": {
      "image/png": "[encoded data removed]",
      "text/plain": [
       "<matplotlib.figure.Figure at 0x7fdc79634160>"
      ]
     },
     "metadata": {
      "needs_background": "light"
     },
     "output_type": "display_data"
    }
   ],
   "source": [
    "ds_aveZ.frc[100,1].plot()"
   ]
  },
  {
   "cell_type": "code",
   "execution_count": null,
   "metadata": {},
   "outputs": [],
   "source": []
  }
 ],
 "metadata": {
  "kernelspec": {
   "display_name": "Python [default]",
   "language": "python",
   "name": "python3"
  },
  "language_info": {
   "codemirror_mode": {
    "name": "ipython",
    "version": 3
   },
   "file_extension": ".py",
   "mimetype": "text/x-python",
   "name": "python",
   "nbconvert_exporter": "python",
   "pygments_lexer": "ipython3",
   "version": "3.6.3"
  }
 },
 "nbformat": 4,
 "nbformat_minor": 2
}
